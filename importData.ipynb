{
 "cells": [
  {
   "cell_type": "markdown",
   "metadata": {
    "nbpresent": {
     "id": "a424cac2-f7d2-48b1-9c00-ee039308c990"
    },
    "slideshow": {
     "slide_type": "-"
    }
   },
   "source": [
    "# Experimental Data Manipulation\n",
    "Thomas Hansen Viuff, 2016\n",
    "### Description\n",
    "This notebook imports test data from a \\*.txt file, plots the original and altered data, and saves everything to a \\*.npz file.\n",
    "The \\*.txt file contains tab delimitered data with comma as the decimal seperator:\n",
    "\n",
    "    Deformation Experiment Logfile\n",
    "    Notes Notes\n",
    "    \n",
    "    \n",
    "    Date (dd/mm/yyyy):    15/11/2016\tTime (HH:MM:SS.dddd):    10:24:27\n",
    "    Time (HH:MM:SS,dddd)\tSeq.Time(s.dddd)\t Force (kN)\t Deformation 1 (mm)\t Deformation 2 (mm)\t Deformation 3 (mm)\n",
    "    \n",
    "    10:24:27,5594\t-0,0010\t0,210000\t0,017413\t12,730394\t15,222683\n",
    "    10:24:27,5844\t0,0240\t0,210000\t0,017413\t12,728751\t15,219395\n",
    "    10:24:27,6094\t0,0490\t0,210000\t0,017413\t12,733682\t15,224327\n",
    "    ...\n",
    "\n",
    "The following thigs still needs to be clarified in the code:\n",
    "* [ ] Import without removinf first column of data file\n",
    "* [ ] Sharing the notebook with @filippo, check [this page](http//www.google.com) for that\n",
    "* [x] Save and load data :+1:"
   ]
  },
  {
   "cell_type": "markdown",
   "metadata": {
    "nbpresent": {
     "id": "19b769fd-69e6-4d7f-9f36-42ee327bc429"
    },
    "slideshow": {
     "slide_type": "-"
    }
   },
   "source": [
    "### Import python packages"
   ]
  },
  {
   "cell_type": "code",
   "execution_count": 1,
   "metadata": {
    "collapsed": false,
    "nbpresent": {
     "id": "181b1890-d8b2-43c6-bd0e-3d0812a47162"
    },
    "slideshow": {
     "slide_type": "-"
    }
   },
   "outputs": [],
   "source": [
    "import pandas as pd                # used for importing *.txt\n",
    "import numpy as np                 # used for matrix operations\n",
    "import matplotlib.pyplot as plt    # used for plots"
   ]
  },
  {
   "cell_type": "markdown",
   "metadata": {
    "nbpresent": {
     "id": "749a7663-0ae3-4c47-b242-71f5dd96fc95"
    },
    "slideshow": {
     "slide_type": "-"
    }
   },
   "source": [
    "### Import data from \\*.txt file"
   ]
  },
  {
   "cell_type": "code",
   "execution_count": 2,
   "metadata": {
    "collapsed": false,
    "nbpresent": {
     "id": "2398e7d6-40b7-447e-ac8b-3b7c0bcc777f"
    },
    "slideshow": {
     "slide_type": "-"
    }
   },
   "outputs": [
    {
     "name": "stdout",
     "output_type": "stream",
     "text": [
      "Seq.Time(s.dddd)       float64\n",
      " Force (kN)            float64\n",
      " Deformation 1 (mm)    float64\n",
      " Deformation 2 (mm)    float64\n",
      " Deformation 3 (mm)    float64\n",
      "dtype: object\n"
     ]
    }
   ],
   "source": [
    "floc = 'DATA/'                     # folder\n",
    "fname = 'E10CON3'                  # filename\n",
    "fext = '.txt'                      # file extention\n",
    "data = pd.io.parsers.read_table(floc+fname+fext, decimal=\",\", header=3)        # import data from file\n",
    "data.drop(data.columns[[0]], axis=1, inplace=True)                             # remove the first column\n",
    "print(data.dtypes)                                                             # print data type information\n",
    "dataType = data.dtypes                                                         # store data type info\n",
    "dataValue = data.values                                                        # store data values"
   ]
  },
  {
   "cell_type": "markdown",
   "metadata": {
    "nbpresent": {
     "id": "9c319e3f-928d-48b1-8381-dcd8e0b97414"
    },
    "slideshow": {
     "slide_type": "-"
    }
   },
   "source": [
    "### Rename data"
   ]
  },
  {
   "cell_type": "code",
   "execution_count": 3,
   "metadata": {
    "collapsed": true,
    "nbpresent": {
     "id": "ffcc8ca3-e441-4d62-bd7e-6c16ebbb6a74"
    },
    "slideshow": {
     "slide_type": "-"
    }
   },
   "outputs": [],
   "source": [
    "DATA = dataValue\n",
    "t = DATA[::,0]    # time [s]\n",
    "F = DATA[::,1]    # force [kN]\n",
    "S1 = DATA[::,2]   # deformation 1 [mm]\n",
    "S2 = DATA[::,3]   # deformation 2 [mm]\n",
    "S3 = DATA[::,4]   # deformation 3 [mm]"
   ]
  },
  {
   "cell_type": "markdown",
   "metadata": {
    "nbpresent": {
     "id": "64464fe8-8ce8-4ae8-be8b-4e41151d15b2"
    },
    "slideshow": {
     "slide_type": "-"
    }
   },
   "source": [
    "### Plot original data"
   ]
  },
  {
   "cell_type": "code",
   "execution_count": 4,
   "metadata": {
    "collapsed": false,
    "nbpresent": {
     "id": "e0a47137-d355-487a-afdf-1d7afcd1d294"
    },
    "slideshow": {
     "slide_type": "-"
    }
   },
   "outputs": [
    {
     "data": {
      "image/png": "[encoded data removed]",
      "text/plain": [
       "<matplotlib.figure.Figure at 0x8d939e8>"
      ]
     },
     "metadata": {},
     "output_type": "display_data"
    }
   ],
   "source": [
    "plt.plot(S1, F, 'r-', label='S1')     # plot F-S1 relationship with x=S1 and y=F, and give it the legend \"S1\"\n",
    "plt.plot(S2, F, 'b-', label='S2')\n",
    "plt.plot(S3, F, 'g-', label='S3')\n",
    "plt.xlabel('Deformation [mm]')        # write text for x-axis\n",
    "plt.ylabel('Force [kN]')              # write text for y-axis\n",
    "plt.legend(loc='upper right')         # position and plot legend\n",
    "plt.title('Original Data')            # write title for plot\n",
    "plt.grid(True)                        # add grid lines\n",
    "plt.show()                            # actually plot the graph. Without this line nothing will be shown!"
   ]
  },
  {
   "cell_type": "markdown",
   "metadata": {
    "nbpresent": {
     "id": "e0529753-44d0-4f88-8421-725eefff349e"
    },
    "slideshow": {
     "slide_type": "-"
    }
   },
   "source": [
    "### Remove initial value"
   ]
  },
  {
   "cell_type": "code",
   "execution_count": 5,
   "metadata": {
    "collapsed": true,
    "nbpresent": {
     "id": "92a01a11-65a2-492f-adca-aef1c03cf769"
    },
    "slideshow": {
     "slide_type": "-"
    }
   },
   "outputs": [],
   "source": [
    "S1 = S1-S1[0]    # subtract the first value in the array from the entire array\n",
    "S2 = S2-S2[0]\n",
    "S3 = S3-S3[0]"
   ]
  },
  {
   "cell_type": "markdown",
   "metadata": {
    "nbpresent": {
     "id": "abf22607-2da0-4e52-ae40-a1a535047866"
    },
    "slideshow": {
     "slide_type": "-"
    }
   },
   "source": [
    "### Add an initial zero value"
   ]
  },
  {
   "cell_type": "code",
   "execution_count": 6,
   "metadata": {
    "collapsed": true,
    "nbpresent": {
     "id": "5ef17d55-8778-4d44-b612-b0be3f7677f6"
    },
    "slideshow": {
     "slide_type": "-"
    }
   },
   "outputs": [],
   "source": [
    "F = np.insert(F,0,0)       # np.insert(array,index,value)\n",
    "S1 = np.insert(S1,0,0)     # inserts the \"value\" before the \"index\" in the \"array\"\n",
    "S2 = np.insert(S2,0,0)\n",
    "S3 = np.insert(S3,0,0)"
   ]
  },
  {
   "cell_type": "markdown",
   "metadata": {
    "nbpresent": {
     "id": "0c023416-4f0d-4203-88c4-55154ceeea32"
    },
    "slideshow": {
     "slide_type": "-"
    }
   },
   "source": [
    "### Remove data after failure"
   ]
  },
  {
   "cell_type": "code",
   "execution_count": 7,
   "metadata": {
    "collapsed": false,
    "nbpresent": {
     "id": "312c00bc-f839-4f6b-b7ca-fc7ccf430d1d"
    },
    "slideshow": {
     "slide_type": "-"
    }
   },
   "outputs": [],
   "source": [
    "failureLoad = 1.0                   # remove values after F equals to failureLoad. If zero, then nothing happends!\n",
    "if (failureLoad != 0):              # if failureLoad is different from zero, do the following:\n",
    "    allIndF = [i for (i, val) in enumerate(F) if val == failureLoad]          # find all indices where F equals the failureLoad\n",
    "    lastIndF = max(allIndF)                                                   # find the highest index (last value)\n",
    "    S1 = S1[:lastIndF+1]                                                      # take out values from index 0 to index lastIndF\n",
    "    S2 = S2[:lastIndF+1]                                                      # the +1 is because python translates a[0:5] as\n",
    "    S3 = S3[:lastIndF+1]                                                      # a[0], a[1], a[2], a[3], a[4]\n",
    "    F = F[:lastIndF+1]"
   ]
  },
  {
   "cell_type": "markdown",
   "metadata": {
    "nbpresent": {
     "id": "d5e787ed-e0df-48a7-bde0-5933af128c80"
    },
    "slideshow": {
     "slide_type": "-"
    }
   },
   "source": [
    "### Plot altered data"
   ]
  },
  {
   "cell_type": "code",
   "execution_count": 8,
   "metadata": {
    "collapsed": false,
    "nbpresent": {
     "id": "31f77cfb-69c8-4b03-a43e-d8e1078ec2a3"
    },
    "slideshow": {
     "slide_type": "-"
    }
   },
   "outputs": [
    {
     "data": {
      "image/png": "[encoded data removed]",
      "text/plain": [
       "<matplotlib.figure.Figure at 0x8d9f390>"
      ]
     },
     "metadata": {},
     "output_type": "display_data"
    }
   ],
   "source": [
    "plt.plot(S1, F, 'r-', label='S1')             # same comments as for plotting the original data\n",
    "plt.plot(S2, F, 'b-', label='S2')\n",
    "plt.plot(S3, F, 'g-', label='S3')\n",
    "plt.xlabel('Deformation [mm]')\n",
    "plt.ylabel('Force [kN]')\n",
    "legend = plt.legend(loc='upper right')\n",
    "plt.title('Altered Data')\n",
    "plt.grid(True)\n",
    "plt.show()"
   ]
  },
  {
   "cell_type": "markdown",
   "metadata": {
    "nbpresent": {
     "id": "3b82c307-82e0-40fe-8c11-f888e54fa094"
    },
    "slideshow": {
     "slide_type": "-"
    }
   },
   "source": [
    "### Save data"
   ]
  },
  {
   "cell_type": "code",
   "execution_count": 9,
   "metadata": {
    "collapsed": false,
    "nbpresent": {
     "id": "f36b717d-3809-46b7-b00e-8e4e2e556960"
    },
    "slideshow": {
     "slide_type": "-"
    }
   },
   "outputs": [],
   "source": [
    "np.savez(floc+fname,DATA=DATA,t=t,F=F,S1=S1,S2=S2,S3=S3)      # *.npz file\n",
    "del DATA                                                      # delete variable from memory\n",
    "del t\n",
    "del F\n",
    "del S1\n",
    "del S2\n",
    "del S3"
   ]
  },
  {
   "cell_type": "markdown",
   "metadata": {
    "nbpresent": {
     "id": "180ef54f-fa7a-4789-8ba3-df9765a77913"
    },
    "slideshow": {
     "slide_type": "-"
    }
   },
   "source": [
    "### Load data"
   ]
  },
  {
   "cell_type": "code",
   "execution_count": 10,
   "metadata": {
    "collapsed": false,
    "nbpresent": {
     "id": "087ec777-4d5e-4ba3-8c1c-d9f611e9b011"
    },
    "slideshow": {
     "slide_type": "-"
    }
   },
   "outputs": [
    {
     "name": "stdout",
     "output_type": "stream",
     "text": [
      "['F', 'S2', 'DATA', 't', 'S1', 'S3']\n"
     ]
    }
   ],
   "source": [
    "npzfile = np.load(floc+fname+'.npz')                          # loads data from .npz file and store it in npzfile\n",
    "print(npzfile.files)                                          # print names of files (data) contained in npzfile\n",
    "DATA = npzfile['DATA']                                        # assign the specified file to the array DATA\n",
    "t = npzfile['t']\n",
    "F = npzfile['F']\n",
    "S1 = npzfile['S1']\n",
    "S2 = npzfile['S2']\n",
    "S3 = npzfile['S3']"
   ]
  },
  {
   "cell_type": "markdown",
   "metadata": {
    "nbpresent": {
     "id": "38abc30e-0381-491b-9d69-94cb1a10f555"
    },
    "slideshow": {
     "slide_type": "-"
    }
   },
   "source": [
    "### Plot loaded data"
   ]
  },
  {
   "cell_type": "code",
   "execution_count": 11,
   "metadata": {
    "collapsed": false,
    "nbpresent": {
     "id": "cc84732c-7011-4547-a84a-c5c5ba4f6791"
    },
    "slideshow": {
     "slide_type": "-"
    }
   },
   "outputs": [
    {
     "data": {
      "image/png": "[encoded data removed]",
      "text/plain": [
       "<matplotlib.figure.Figure at 0x47c78d0>"
      ]
     },
     "metadata": {},
     "output_type": "display_data"
    }
   ],
   "source": [
    "plt.plot(S1, F, 'r-', label='S1')                             # same comments as for plotting the original data\n",
    "plt.plot(S2, F, 'b-', label='S2')\n",
    "plt.plot(S3, F, 'g-', label='S3')\n",
    "plt.xlabel('Deformation [mm]')\n",
    "plt.ylabel('Force [kN]')\n",
    "legend = plt.legend(loc='upper right')\n",
    "plt.title('Loaded Data')\n",
    "plt.grid(True)\n",
    "plt.show()"
   ]
  }
 ],
 "metadata": {
  "anaconda-cloud": {},
  "kernelspec": {
   "display_name": "Python [conda root]",
   "language": "python",
   "name": "conda-root-py"
  },
  "language_info": {
   "codemirror_mode": {
    "name": "ipython",
    "version": 3
   },
   "file_extension": ".py",
   "mimetype": "text/x-python",
   "name": "python",
   "nbconvert_exporter": "python",
   "pygments_lexer": "ipython3",
   "version": "3.5.2"
  },
  "nbpresent": {
   "slides": {
    "08df7424-7b95-4c6d-b09b-7c7f589aa0ab": {
     "id": "08df7424-7b95-4c6d-b09b-7c7f589aa0ab",
     "prev": "11bbad26-da2f-49bf-adb9-7ddcc6fa3f23",
     "regions": {
      "71bf0da9-e72a-4f6c-a69f-425efbe9776b": {
       "attrs": {
        "height": 0.8,
        "width": 0.8,
        "x": 0.1,
        "y": 0.1
       },
       "content": {
        "cell": "f36b717d-3809-46b7-b00e-8e4e2e556960",
        "part": "whole"
       },
       "id": "71bf0da9-e72a-4f6c-a69f-425efbe9776b"
      }
     }
    },
    "0c1942e5-0e54-426a-a0db-e7a22fab87ba": {
     "id": "0c1942e5-0e54-426a-a0db-e7a22fab87ba",
     "prev": "42b37423-f249-4b52-9dbb-4abda82dc53d",
     "regions": {
      "1b7628dd-8a5a-403b-87fc-8f65bc4be837": {
       "attrs": {
        "height": 0.8,
        "width": 0.45,
        "x": 0.05,
        "y": 0.1
       },
       "id": "1b7628dd-8a5a-403b-87fc-8f65bc4be837"
      },
      "8d32c54c-bae9-4f73-b668-eda3f3ba74fa": {
       "attrs": {
        "height": 0.8,
        "width": 0.45,
        "x": 0.5,
        "y": 0.1
       },
       "id": "8d32c54c-bae9-4f73-b668-eda3f3ba74fa"
      }
     }
    },
    "0d8093cd-57b4-46d1-9bd4-bbe4e8591f9b": {
     "id": "0d8093cd-57b4-46d1-9bd4-bbe4e8591f9b",
     "prev": "f033e5b9-bf06-4761-8cfa-1d841c1a10e9",
     "regions": {
      "4d7bbe9a-af4c-45d4-8aaa-aa23f891c1e3": {
       "attrs": {
        "height": 0.8,
        "width": 0.8,
        "x": 0.1,
        "y": 0.1
       },
       "content": {
        "cell": "abf22607-2da0-4e52-ae40-a1a535047866",
        "part": "whole"
       },
       "id": "4d7bbe9a-af4c-45d4-8aaa-aa23f891c1e3"
      }
     }
    },
    "110e518a-c032-4487-8c9d-78953814ee21": {
     "id": "110e518a-c032-4487-8c9d-78953814ee21",
     "prev": "dbebf069-ebba-43d6-b0db-06d6d6129872",
     "regions": {
      "078e9574-de8b-44a9-9fa1-1f34aec765b3": {
       "attrs": {
        "height": 0.8,
        "width": 0.8,
        "x": 0.1,
        "y": 0.1
       },
       "content": {
        "cell": "2398e7d6-40b7-447e-ac8b-3b7c0bcc777f",
        "part": "whole"
       },
       "id": "078e9574-de8b-44a9-9fa1-1f34aec765b3"
      }
     }
    },
    "11bbad26-da2f-49bf-adb9-7ddcc6fa3f23": {
     "id": "11bbad26-da2f-49bf-adb9-7ddcc6fa3f23",
     "prev": "d7b75931-e8d3-4131-a911-b6c0e9461fb4",
     "regions": {
      "6353245e-b876-4b2e-8755-c065bb532774": {
       "attrs": {
        "height": 0.8,
        "width": 0.8,
        "x": 0.1,
        "y": 0.1
       },
       "content": {
        "cell": "3b82c307-82e0-40fe-8c11-f888e54fa094",
        "part": "whole"
       },
       "id": "6353245e-b876-4b2e-8755-c065bb532774"
      }
     }
    },
    "2fb81f76-0d21-4864-bcd7-f1bf97e2ffb1": {
     "id": "2fb81f76-0d21-4864-bcd7-f1bf97e2ffb1",
     "prev": "eaa6db21-41e0-4adc-a8e2-8fbce4181637",
     "regions": {
      "529c7a64-2815-4eee-adbe-6fab69233bad": {
       "attrs": {
        "height": 0.8,
        "width": 0.8,
        "x": 0.1,
        "y": 0.1
       },
       "content": {
        "cell": "181b1890-d8b2-43c6-bd0e-3d0812a47162",
        "part": "whole"
       },
       "id": "529c7a64-2815-4eee-adbe-6fab69233bad"
      }
     }
    },
    "40e70b83-b3b9-4d86-91e7-9bfb725fe68d": {
     "id": "40e70b83-b3b9-4d86-91e7-9bfb725fe68d",
     "prev": "67fb090e-05d0-476b-97db-7a89184404e6",
     "regions": {
      "7b867dbe-1aad-435e-85b4-68c426c07674": {
       "attrs": {
        "height": 0.8,
        "width": 0.8,
        "x": 0.1,
        "y": 0.1
       },
       "content": {
        "cell": "38abc30e-0381-491b-9d69-94cb1a10f555",
        "part": "whole"
       },
       "id": "7b867dbe-1aad-435e-85b4-68c426c07674"
      }
     }
    },
    "42b37423-f249-4b52-9dbb-4abda82dc53d": {
     "id": "42b37423-f249-4b52-9dbb-4abda82dc53d",
     "layout": "grid",
     "prev": null,
     "regions": {},
     "theme": null
    },
    "5a76fcc2-3e5f-4cd6-b9d3-43dfce438229": {
     "id": "5a76fcc2-3e5f-4cd6-b9d3-43dfce438229",
     "prev": "110e518a-c032-4487-8c9d-78953814ee21",
     "regions": {
      "7f53db59-fa3a-409c-a07e-d4c976bdb7ea": {
       "attrs": {
        "height": 0.8,
        "width": 0.8,
        "x": 0.1,
        "y": 0.1
       },
       "content": {
        "cell": "9c319e3f-928d-48b1-8381-dcd8e0b97414",
        "part": "whole"
       },
       "id": "7f53db59-fa3a-409c-a07e-d4c976bdb7ea"
      }
     }
    },
    "5ec59982-a9d3-47e6-9d83-3c47782d0d4e": {
     "id": "5ec59982-a9d3-47e6-9d83-3c47782d0d4e",
     "prev": "5a76fcc2-3e5f-4cd6-b9d3-43dfce438229",
     "regions": {
      "72261fb3-5540-4c10-a9a4-c0d49fbb2c11": {
       "attrs": {
        "height": 0.8,
        "width": 0.8,
        "x": 0.1,
        "y": 0.1
       },
       "content": {
        "cell": "ffcc8ca3-e441-4d62-bd7e-6c16ebbb6a74",
        "part": "whole"
       },
       "id": "72261fb3-5540-4c10-a9a4-c0d49fbb2c11"
      }
     }
    },
    "67fb090e-05d0-476b-97db-7a89184404e6": {
     "id": "67fb090e-05d0-476b-97db-7a89184404e6",
     "prev": "755760b9-1afb-4cf0-8092-4880b776f3a4",
     "regions": {
      "77264ef6-0d53-4d67-901a-e1b9cfc943de": {
       "attrs": {
        "height": 0.8,
        "width": 0.8,
        "x": 0.1,
        "y": 0.1
       },
       "content": {
        "cell": "087ec777-4d5e-4ba3-8c1c-d9f611e9b011",
        "part": "whole"
       },
       "id": "77264ef6-0d53-4d67-901a-e1b9cfc943de"
      }
     }
    },
    "755760b9-1afb-4cf0-8092-4880b776f3a4": {
     "id": "755760b9-1afb-4cf0-8092-4880b776f3a4",
     "prev": "08df7424-7b95-4c6d-b09b-7c7f589aa0ab",
     "regions": {
      "516ffb0c-0d93-45f1-b380-6415e7235e11": {
       "attrs": {
        "height": 0.8,
        "width": 0.8,
        "x": 0.1,
        "y": 0.1
       },
       "content": {
        "cell": "180ef54f-fa7a-4789-8ba3-df9765a77913",
        "part": "whole"
       },
       "id": "516ffb0c-0d93-45f1-b380-6415e7235e11"
      }
     }
    },
    "859efa54-eae8-4d8b-b1e2-99ee6c8a5cc6": {
     "id": "859efa54-eae8-4d8b-b1e2-99ee6c8a5cc6",
     "prev": "5ec59982-a9d3-47e6-9d83-3c47782d0d4e",
     "regions": {
      "0c4b92fd-0997-46f6-afed-4daac02d593c": {
       "attrs": {
        "height": 0.8,
        "width": 0.8,
        "x": 0.1,
        "y": 0.1
       },
       "content": {
        "cell": "64464fe8-8ce8-4ae8-be8b-4e41151d15b2",
        "part": "whole"
       },
       "id": "0c4b92fd-0997-46f6-afed-4daac02d593c"
      }
     }
    },
    "932ffd9d-b2dc-4fe0-919a-c2d3269c1c8f": {
     "id": "932ffd9d-b2dc-4fe0-919a-c2d3269c1c8f",
     "prev": "cd07ee74-542b-4c89-9e19-6283c9e43010",
     "regions": {
      "ac5f305a-723b-4345-9af5-5240fc3b8db5": {
       "attrs": {
        "height": 0.8,
        "width": 0.8,
        "x": 0.1,
        "y": 0.1
       },
       "content": {
        "cell": "e0529753-44d0-4f88-8421-725eefff349e",
        "part": "whole"
       },
       "id": "ac5f305a-723b-4345-9af5-5240fc3b8db5"
      }
     }
    },
    "94ef092b-262b-4762-9012-c7e85e29a6b3": {
     "id": "94ef092b-262b-4762-9012-c7e85e29a6b3",
     "prev": "aeb49887-35d4-4bdc-89f4-86b3b6d04adc",
     "regions": {
      "e375ce69-283c-49c3-b4e7-df0cd9d6f002": {
       "attrs": {
        "height": 0.8,
        "width": 0.8,
        "x": 0.1,
        "y": 0.1
       },
       "content": {
        "cell": "312c00bc-f839-4f6b-b7ca-fc7ccf430d1d",
        "part": "whole"
       },
       "id": "e375ce69-283c-49c3-b4e7-df0cd9d6f002"
      }
     }
    },
    "aeb49887-35d4-4bdc-89f4-86b3b6d04adc": {
     "id": "aeb49887-35d4-4bdc-89f4-86b3b6d04adc",
     "prev": "c667bb11-90f7-4e3b-a1df-93e50cc046aa",
     "regions": {
      "b86216d4-081e-4522-8549-d685d1998270": {
       "attrs": {
        "height": 0.8,
        "width": 0.8,
        "x": 0.1,
        "y": 0.1
       },
       "content": {
        "cell": "0c023416-4f0d-4203-88c4-55154ceeea32",
        "part": "whole"
       },
       "id": "b86216d4-081e-4522-8549-d685d1998270"
      }
     }
    },
    "b0f599a6-fb0b-42b2-b648-7b8f88e45e7a": {
     "id": "b0f599a6-fb0b-42b2-b648-7b8f88e45e7a",
     "prev": "94ef092b-262b-4762-9012-c7e85e29a6b3",
     "regions": {
      "612cb3fb-d2e1-44c8-81d6-b415504919c7": {
       "attrs": {
        "height": 0.8,
        "width": 0.8,
        "x": 0.1,
        "y": 0.1
       },
       "content": {
        "cell": "d5e787ed-e0df-48a7-bde0-5933af128c80",
        "part": "whole"
       },
       "id": "612cb3fb-d2e1-44c8-81d6-b415504919c7"
      }
     }
    },
    "c5889f71-71b5-4d07-a870-d1c1ee90d934": {
     "id": "c5889f71-71b5-4d07-a870-d1c1ee90d934",
     "prev": "40e70b83-b3b9-4d86-91e7-9bfb725fe68d",
     "regions": {
      "57a9e3df-a66e-4cea-bf8b-97088ff73a9a": {
       "attrs": {
        "height": 0.8,
        "width": 0.8,
        "x": 0.1,
        "y": 0.1
       },
       "content": {
        "cell": "cc84732c-7011-4547-a84a-c5c5ba4f6791",
        "part": "whole"
       },
       "id": "57a9e3df-a66e-4cea-bf8b-97088ff73a9a"
      }
     }
    },
    "c667bb11-90f7-4e3b-a1df-93e50cc046aa": {
     "id": "c667bb11-90f7-4e3b-a1df-93e50cc046aa",
     "prev": "0d8093cd-57b4-46d1-9bd4-bbe4e8591f9b",
     "regions": {
      "4da7d16c-550f-4026-a5e3-2810b90f1047": {
       "attrs": {
        "height": 0.8,
        "width": 0.8,
        "x": 0.1,
        "y": 0.1
       },
       "content": {
        "cell": "5ef17d55-8778-4d44-b612-b0be3f7677f6",
        "part": "whole"
       },
       "id": "4da7d16c-550f-4026-a5e3-2810b90f1047"
      }
     }
    },
    "cd07ee74-542b-4c89-9e19-6283c9e43010": {
     "id": "cd07ee74-542b-4c89-9e19-6283c9e43010",
     "prev": "859efa54-eae8-4d8b-b1e2-99ee6c8a5cc6",
     "regions": {
      "336da593-03a8-4f9a-9569-f5676d51f7f2": {
       "attrs": {
        "height": 0.8,
        "width": 0.8,
        "x": 0.1,
        "y": 0.1
       },
       "content": {
        "cell": "e0a47137-d355-487a-afdf-1d7afcd1d294",
        "part": "whole"
       },
       "id": "336da593-03a8-4f9a-9569-f5676d51f7f2"
      }
     }
    },
    "d7b75931-e8d3-4131-a911-b6c0e9461fb4": {
     "id": "d7b75931-e8d3-4131-a911-b6c0e9461fb4",
     "prev": "b0f599a6-fb0b-42b2-b648-7b8f88e45e7a",
     "regions": {
      "a2990373-aaf4-42fc-8569-9a7bf6121876": {
       "attrs": {
        "height": 0.8,
        "width": 0.8,
        "x": 0.1,
        "y": 0.1
       },
       "content": {
        "cell": "31f77cfb-69c8-4b03-a43e-d8e1078ec2a3",
        "part": "whole"
       },
       "id": "a2990373-aaf4-42fc-8569-9a7bf6121876"
      }
     }
    },
    "dbebf069-ebba-43d6-b0db-06d6d6129872": {
     "id": "dbebf069-ebba-43d6-b0db-06d6d6129872",
     "prev": "2fb81f76-0d21-4864-bcd7-f1bf97e2ffb1",
     "regions": {
      "4ec61fc9-0014-487b-a2cf-f0b0bffb8807": {
       "attrs": {
        "height": 0.8,
        "width": 0.8,
        "x": 0.1,
        "y": 0.1
       },
       "content": {
        "cell": "749a7663-0ae3-4c47-b242-71f5dd96fc95",
        "part": "whole"
       },
       "id": "4ec61fc9-0014-487b-a2cf-f0b0bffb8807"
      }
     }
    },
    "eaa6db21-41e0-4adc-a8e2-8fbce4181637": {
     "id": "eaa6db21-41e0-4adc-a8e2-8fbce4181637",
     "prev": "0c1942e5-0e54-426a-a0db-e7a22fab87ba",
     "regions": {
      "ead6661e-00d2-473c-8fbe-efe96baeb257": {
       "attrs": {
        "height": 0.8,
        "width": 0.8,
        "x": 0.1,
        "y": 0.1
       },
       "content": {
        "cell": "19b769fd-69e6-4d7f-9f36-42ee327bc429",
        "part": "whole"
       },
       "id": "ead6661e-00d2-473c-8fbe-efe96baeb257"
      }
     }
    },
    "f033e5b9-bf06-4761-8cfa-1d841c1a10e9": {
     "id": "f033e5b9-bf06-4761-8cfa-1d841c1a10e9",
     "prev": "932ffd9d-b2dc-4fe0-919a-c2d3269c1c8f",
     "regions": {
      "3c752692-bb97-4432-9df7-e9e93454a6f4": {
       "attrs": {
        "height": 0.8,
        "width": 0.8,
        "x": 0.1,
        "y": 0.1
       },
       "content": {
        "cell": "92a01a11-65a2-492f-adca-aef1c03cf769",
        "part": "whole"
       },
       "id": "3c752692-bb97-4432-9df7-e9e93454a6f4"
      }
     }
    }
   },
   "themes": {
    "default": "431ce631-9324-4929-911b-a9af4cbb5dfe",
    "theme": {
     "431ce631-9324-4929-911b-a9af4cbb5dfe": {
      "backgrounds": {
       "dc7afa04-bf90-40b1-82a5-726e3cff5267": {
        "background-color": "31af15d2-7e15-44c5-ab5e-e04b16a89eff",
        "id": "dc7afa04-bf90-40b1-82a5-726e3cff5267"
       }
      },
      "id": "431ce631-9324-4929-911b-a9af4cbb5dfe",
      "palette": {
       "19cc588f-0593-49c9-9f4b-e4d7cc113b1c": {
        "id": "19cc588f-0593-49c9-9f4b-e4d7cc113b1c",
        "rgb": [
         252,
         252,
         252
        ]
       },
       "31af15d2-7e15-44c5-ab5e-e04b16a89eff": {
        "id": "31af15d2-7e15-44c5-ab5e-e04b16a89eff",
        "rgb": [
         68,
         68,
         68
        ]
       },
       "50f92c45-a630-455b-aec3-788680ec7410": {
        "id": "50f92c45-a630-455b-aec3-788680ec7410",
        "rgb": [
         197,
         226,
         245
        ]
       },
       "c5cc3653-2ee1-402a-aba2-7caae1da4f6c": {
        "id": "c5cc3653-2ee1-402a-aba2-7caae1da4f6c",
        "rgb": [
         43,
         126,
         184
        ]
       },
       "efa7f048-9acb-414c-8b04-a26811511a21": {
        "id": "efa7f048-9acb-414c-8b04-a26811511a21",
        "rgb": [
         25.118061674008803,
         73.60176211453744,
         107.4819383259912
        ]
       }
      },
      "rules": {
       "a": {
        "color": "19cc588f-0593-49c9-9f4b-e4d7cc113b1c"
       },
       "blockquote": {
        "color": "50f92c45-a630-455b-aec3-788680ec7410",
        "font-size": 3
       },
       "code": {
        "font-family": "Anonymous Pro"
       },
       "h1": {
        "color": "19cc588f-0593-49c9-9f4b-e4d7cc113b1c",
        "font-family": "Merriweather",
        "font-size": 8
       },
       "h2": {
        "color": "19cc588f-0593-49c9-9f4b-e4d7cc113b1c",
        "font-family": "Merriweather",
        "font-size": 6
       },
       "h3": {
        "color": "50f92c45-a630-455b-aec3-788680ec7410",
        "font-family": "Lato",
        "font-size": 5.5
       },
       "h4": {
        "color": "c5cc3653-2ee1-402a-aba2-7caae1da4f6c",
        "font-family": "Lato",
        "font-size": 5
       },
       "h5": {
        "font-family": "Lato"
       },
       "h6": {
        "font-family": "Lato"
       },
       "h7": {
        "font-family": "Lato"
       },
       "li": {
        "color": "50f92c45-a630-455b-aec3-788680ec7410",
        "font-size": 3.25
       },
       "pre": {
        "font-family": "Anonymous Pro",
        "font-size": 4
       }
      },
      "text-base": {
       "color": "19cc588f-0593-49c9-9f4b-e4d7cc113b1c",
       "font-family": "Lato",
       "font-size": 4
      }
     }
    }
   }
  }
 },
 "nbformat": 4,
 "nbformat_minor": 1
}
